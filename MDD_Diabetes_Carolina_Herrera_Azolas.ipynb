{
  "nbformat": 4,
  "nbformat_minor": 0,
  "metadata": {
    "colab": {
      "provenance": [],
      "authorship_tag": "ABX9TyOrCxbw6RklM0o9kNvLtoRu",
      "include_colab_link": true
    },
    "kernelspec": {
      "name": "python3",
      "display_name": "Python 3"
    },
    "language_info": {
      "name": "python"
    }
  },
  "cells": [
    {
      "cell_type": "markdown",
      "metadata": {
        "id": "view-in-github",
        "colab_type": "text"
      },
      "source": [
        "<a href=\"https://colab.research.google.com/github/Carolinsrainbow/UC_VisualizacionDeDatos/blob/main/MDD_Diabetes_Carolina_Herrera_Azolas.ipynb\" target=\"_parent\"><img src=\"https://colab.research.google.com/assets/colab-badge.svg\" alt=\"Open In Colab\"/></a>"
      ]
    },
    {
      "cell_type": "markdown",
      "source": [
        "# Tarea: Diseño de gráficos para datos tabulares y distribuciones con Python\n"
      ],
      "metadata": {
        "id": "DJiNofHCBTLI"
      }
    },
    {
      "cell_type": "markdown",
      "source": [],
      "metadata": {
        "id": "eWP0PXeZCKNj"
      }
    },
    {
      "cell_type": "markdown",
      "source": [
        "1.Dos scatterplots, los cuales comparan la relación entre glucosa e insulina y glucosa con presión arterial. Ambos scatterplots deben mostrar si el dato específico tiene o no diabetes."
      ],
      "metadata": {
        "id": "shjzW3hbBlRQ"
      }
    }
  ]
}